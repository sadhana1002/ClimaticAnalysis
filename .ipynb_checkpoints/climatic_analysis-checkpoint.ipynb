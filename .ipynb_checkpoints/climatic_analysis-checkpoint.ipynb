{
 "cells": [
  {
   "cell_type": "markdown",
   "metadata": {},
   "source": [
    "# Climatic Analysis"
   ]
  },
  {
   "cell_type": "markdown",
   "metadata": {},
   "source": [
    "Performing climatic analysis of Hawaii based on the temperature recorded on different stations"
   ]
  },
  {
   "cell_type": "code",
   "execution_count": 79,
   "metadata": {
    "collapsed": true
   },
   "outputs": [],
   "source": [
    "# Python SQL toolkit and Object Relational Mapper\n",
    "import sqlalchemy\n",
    "from sqlalchemy.sql import label\n",
    "from sqlalchemy import func\n",
    "from sqlalchemy.ext.automap import automap_base\n",
    "from sqlalchemy.orm import Session\n",
    "from sqlalchemy import create_engine\n",
    "import pandas as pd\n",
    "from sqlalchemy import Column, Integer, String, Numeric, Text, Float,Table,ForeignKey\n",
    "from flask import jsonify\n",
    "\n",
    "import matplotlib.pyplot as plt\n",
    "from matplotlib import cm\n",
    "import matplotlib\n",
    "\n",
    "from datetime import datetime,timedelta"
   ]
  },
  {
   "cell_type": "code",
   "execution_count": 16,
   "metadata": {
    "collapsed": true
   },
   "outputs": [],
   "source": [
    "engine = create_engine(\"sqlite:///hawaii.sqlite\")\n",
    "Base = automap_base()\n",
    "Base.prepare(engine, reflect=True)\n",
    "Base.classes.keys()\n",
    "\n",
    "Measurements = Base.classes.measurements\n",
    "Stations = Base.classes.stations\n",
    "\n",
    "session = Session(engine)\n",
    "\n",
    "my_table = Table('Measurements', Base.metadata, \n",
    "    Column(\"station\", String, ForeignKey(\"Stations.station\")),\n",
    "    autoload=True,autoload_with=engine)"
   ]
  },
  {
   "cell_type": "markdown",
   "metadata": {},
   "source": [
    "# Precipitation analysis"
   ]
  },
  {
   "cell_type": "code",
   "execution_count": 17,
   "metadata": {
    "collapsed": true
   },
   "outputs": [],
   "source": [
    "def precipitation_data():\n",
    "    current_time = datetime.now()\n",
    "\n",
    "    past_year = current_time - timedelta(days=365)\n",
    "\n",
    "    measurements_year = session.query(Measurements.date,Measurements.prcp).filter(\n",
    "        Measurements.date > past_year).all()\n",
    "\n",
    "    measure_records = []\n",
    "    for measure in measurements_year:\n",
    "        measure_records.append(measure._asdict())\n",
    "\n",
    "    measurements_df = pd.DataFrame.from_records(measure_records)\n",
    "\n",
    "    measurements_df = measurements_df.set_index('date')\n",
    "\n",
    "\n",
    "    return measurements_df"
   ]
  },
  {
   "cell_type": "code",
   "execution_count": 19,
   "metadata": {
    "collapsed": true
   },
   "outputs": [],
   "source": [
    "def showprecipitation():\n",
    "    measurements_df = precipitation_data()\n",
    "\n",
    "    measurements_df.plot(kind=\"line\",linewidth=4,figsize=(15,10))\n",
    "\n",
    "    plt.style.use('fivethirtyeight')\n",
    "\n",
    "    matplotlib.rcParams.update({'font.size': 16})\n",
    "\n",
    "    plt.xlabel(\"Date\")\n",
    "    plt.ylabel(\"Precipitation\")\n",
    "    plt.title(f\"Precipitation analysis of past year\")\n",
    "    plt.xticks(rotation=45)\n",
    "    plt.legend([\"Precipitation\"])\n",
    "    plt.tight_layout()\n",
    "    plt.savefig(\"figures/PrecipitationAnalysis_Hawaii.png\")\n",
    "\n",
    "    plt.show()"
   ]
  },
  {
   "cell_type": "markdown",
   "metadata": {},
   "source": [
    "# Station Analysis"
   ]
  },
  {
   "cell_type": "code",
   "execution_count": 20,
   "metadata": {
    "collapsed": true
   },
   "outputs": [],
   "source": [
    "def gettotalstations():\n",
    "    total_stations = session.query(Stations).distinct().count()\n",
    "    print(f\"Total number of stations: {total_stations}\")"
   ]
  },
  {
   "cell_type": "code",
   "execution_count": null,
   "metadata": {
    "collapsed": true
   },
   "outputs": [],
   "source": []
  },
  {
   "cell_type": "code",
   "execution_count": 21,
   "metadata": {
    "collapsed": true
   },
   "outputs": [],
   "source": [
    "def stations_wfrequency():\n",
    "    active_stations = session.query(Stations.name,Stations.station,label('number_of_obs',func.count(Measurements.id))).\\\n",
    "                    filter(Measurements.station == Stations.station).\\\n",
    "    group_by(Stations.name,Stations.station).order_by(func.count(Measurements.id).desc())\n",
    "    \n",
    "    active_station_records = []\n",
    "    for station in active_stations:\n",
    "        active_station_records.append(station._asdict())\n",
    "\n",
    "    active_station_df = pd.DataFrame.from_records(active_station_records)\n",
    "    \n",
    "    return active_station_df"
   ]
  },
  {
   "cell_type": "code",
   "execution_count": 22,
   "metadata": {
    "collapsed": true
   },
   "outputs": [],
   "source": [
    "def getstationslist():\n",
    "    active_station_df = stations_wfrequency()\n",
    "\n",
    "    stations = active_station_df[['name','station']]\n",
    "\n",
    "    return stations"
   ]
  },
  {
   "cell_type": "code",
   "execution_count": 55,
   "metadata": {
    "collapsed": true
   },
   "outputs": [],
   "source": [
    "def getmostfreqstation():\n",
    "    active_station_df = stations_wfrequency()\n",
    "    \n",
    "    freq_station = {'id':\"\",'name':\"\"}\n",
    "    freq_station['id'] = active_station_df.iloc[:1]['station'][0]\n",
    "\n",
    "    freq_station['name'] = active_station_df.iloc[:1]['name'][0]\n",
    "    \n",
    "    return freq_station"
   ]
  },
  {
   "cell_type": "code",
   "execution_count": 56,
   "metadata": {
    "collapsed": true
   },
   "outputs": [],
   "source": [
    "def get_temperature_obs():\n",
    "    current_time = datetime.now()\n",
    "\n",
    "    past_year = current_time - timedelta(days=365)\n",
    "    \n",
    "    freq_station_id = getmostfreqstation()['id']\n",
    "\n",
    "    measure_freq_station = session.query(Measurements.date,Measurements.tobs).\\\n",
    "                        filter(Measurements.station == freq_station_id).\\\n",
    "                        filter(Measurements.date > past_year).all()\n",
    "\n",
    "    station_measures = []\n",
    "    for measure in measure_freq_station:\n",
    "        station_measures.append(measure._asdict())\n",
    "\n",
    "    station_measures_df = pd.DataFrame.from_records(station_measures)\n",
    "\n",
    "    station_measures_df = station_measures_df.set_index('date')\n",
    "\n",
    "\n",
    "    return station_measures_df\n",
    "    "
   ]
  },
  {
   "cell_type": "code",
   "execution_count": 69,
   "metadata": {
    "collapsed": true
   },
   "outputs": [],
   "source": [
    "def showtemperature():\n",
    "    station_measures_df = get_temperature_obs()\n",
    "    \n",
    "    print(jsonify(station_measures_df))\n",
    "\n",
    "    station_measures_df.plot(kind=\"hist\",linewidth=4,figsize=(15,10))\n",
    "\n",
    "    plt.style.use('fivethirtyeight')\n",
    "\n",
    "    matplotlib.rcParams.update({'font.size': 16})\n",
    "\n",
    "    plt.xlabel(\"Date\")\n",
    "    plt.ylabel(\"Temperature\")\n",
    "    plt.title(f\"Temperature analysis of most frequent station\")\n",
    "    plt.xticks(rotation=45)\n",
    "    plt.legend([\"Temperature\"])\n",
    "    plt.tight_layout()\n",
    "    plt.savefig(\"figures/TemperatureAnalysis_Hawaii.png\")\n",
    "\n",
    "    plt.show()"
   ]
  },
  {
   "cell_type": "markdown",
   "metadata": {},
   "source": [
    "# Trip analysis"
   ]
  },
  {
   "cell_type": "code",
   "execution_count": 70,
   "metadata": {
    "collapsed": true
   },
   "outputs": [],
   "source": [
    "def calctemps(startdate,enddate):\n",
    "    compstart = startdate - timedelta(days=365)\n",
    "    compend = enddate - timedelta(days=365)\n",
    "    \n",
    "    temperature_vacation = session.query(label('max_temp',func.max(Measurements.tobs)),\\\n",
    "                                     label('min_temp',func.min(Measurements.tobs)),\\\n",
    "                                     label('avg_temp',func.avg(Measurements.tobs))).\\\n",
    "                    filter(Measurements.date >= compstart).\\\n",
    "                    filter(Measurements.date <= compend)\n",
    "    \n",
    "    Max_temp = temperature_vacation[0].max_temp\n",
    "    Min_temp = temperature_vacation[0].min_temp\n",
    "    Avg_temp = temperature_vacation[0].avg_temp\n",
    "    \n",
    "    yerror = Max_temp - Min_temp\n",
    "    \n",
    "    barvalue = [Avg_temp]\n",
    "    xvals = range(len(barvalue))\n",
    "    matplotlib.rcParams.update({'font.size': 12})\n",
    "    \n",
    "    fig,ax = plt.subplots(figsize=(5,10))\n",
    "    ax.bar(xvals, barvalue, yerr=yerror, color='g',alpha=0.6)\n",
    "    ax.set_xticks([1]) \n",
    "    plt.xlabel(\"Vacation time period\")\n",
    "    plt.ylabel(\"Temperature\")\n",
    "    plt.title(\"Trip average temperature\")\n",
    "    plt.tight_layout()\n",
    "    plt.savefig(\"figures\\Tripavg.png\")\n",
    "    \n",
    "    plt.show()\n",
    "\n"
   ]
  },
  {
   "cell_type": "code",
   "execution_count": 71,
   "metadata": {
    "collapsed": true
   },
   "outputs": [],
   "source": [
    "def calcrainfall(startdate,enddate):\n",
    "    compstart = startdate - timedelta(days=365)\n",
    "    compend = enddate - timedelta(days=365)\n",
    "    \n",
    "    rainfall_per_station = session.query(Stations.name,Stations.station,label('avg_rainfall',func.avg(Measurements.prcp))).\\\n",
    "                    filter(Measurements.station == Stations.station).\\\n",
    "                    filter(Measurements.date >= compstart).\\\n",
    "                    filter(Measurements.date <= compend).\\\n",
    "    group_by(Stations.name,Stations.station).order_by(func.avg(Measurements.prcp))\n",
    "    \n",
    "    df = pd.DataFrame(query_to_dict(rainfall_per_station))\n",
    "       \n",
    "    return df\n",
    "\n",
    "\n",
    "def query_to_dict(res):\n",
    "    res_dict = []\n",
    "    for rec in res:\n",
    "        res_dict.append(rec)\n",
    "    \n",
    "    return res_dict\n",
    "        \n"
   ]
  },
  {
   "cell_type": "code",
   "execution_count": 72,
   "metadata": {
    "collapsed": true
   },
   "outputs": [],
   "source": [
    "def dailynormals(startdate,enddate):\n",
    "    compstart = datetime.strptime(startdate,\"%m-%d\") - timedelta(days=365)\n",
    "    compend = datetime.strptime(enddate,\"%m-%d\") - timedelta(days=365)\n",
    "    \n",
    "    compstart = compstart.replace(year = 2017)\n",
    "    \n",
    "    compend = compend.replace(year = 2017)\n",
    "    \n",
    "    \n",
    "    daily_temperatures = session.query(Measurements.date,label('tmax',func.max(Measurements.tobs)),\\\n",
    "                                      label('tmin',func.min(Measurements.tobs)),\n",
    "                                      label('tavg',func.avg(Measurements.tobs)),).\\\n",
    "                    filter(Measurements.date >= compstart).\\\n",
    "                    filter(Measurements.date <= compend).\\\n",
    "    group_by(Measurements.date).order_by(Measurements.date)\n",
    "    \n",
    "    df = pd.DataFrame(query_to_dict(daily_temperatures))\n",
    "    \n",
    "    df = df.set_index('date')\n",
    "    \n",
    "    return df"
   ]
  },
  {
   "cell_type": "code",
   "execution_count": 73,
   "metadata": {
    "collapsed": true
   },
   "outputs": [],
   "source": [
    "def showdailynormals():\n",
    "    dailynormals_df = dailynormals('01-01','01-10')\n",
    "    dailynormals_df.plot(kind='area',stacked=False,figsize=(15,10),alpha=0.50,cmap = cm.get_cmap('Paired'))\n",
    "\n",
    "    plt.xlabel(\"Date\")\n",
    "    plt.ylabel(\"Temperature\")\n",
    "    plt.title(f\"Trip - Daily Normals\")\n",
    "    plt.xticks(rotation=45)\n",
    "    plt.tight_layout()\n",
    "    plt.savefig(\"figures/trip_dailynormals.png\")\n",
    "\n",
    "    plt.show()"
   ]
  },
  {
   "cell_type": "code",
   "execution_count": 74,
   "metadata": {
    "collapsed": true
   },
   "outputs": [],
   "source": [
    "def performclimateanalysis():\n",
    "    \n",
    "    showprecipitation()\n",
    "    \n",
    "    showtemperature()\n",
    "    \n",
    "    print(getstationslist().head())\n",
    "    \n",
    "    showdailynormals()\n",
    "    \n",
    "    "
   ]
  },
  {
   "cell_type": "code",
   "execution_count": 75,
   "metadata": {
    "collapsed": true
   },
   "outputs": [],
   "source": [
    "plt.show()"
   ]
  },
  {
   "cell_type": "code",
   "execution_count": 83,
   "metadata": {
    "scrolled": false
   },
   "outputs": [
    {
     "ename": "NameError",
     "evalue": "name 'json' is not defined",
     "output_type": "error",
     "traceback": [
      "\u001b[1;31m---------------------------------------------------------------------------\u001b[0m",
      "\u001b[1;31mNameError\u001b[0m                                 Traceback (most recent call last)",
      "\u001b[1;32m<ipython-input-83-1fed9669e98a>\u001b[0m in \u001b[0;36m<module>\u001b[1;34m()\u001b[0m\n\u001b[0;32m      1\u001b[0m \u001b[0mtemperatures_df\u001b[0m \u001b[1;33m=\u001b[0m \u001b[0mget_temperature_obs\u001b[0m\u001b[1;33m(\u001b[0m\u001b[1;33m)\u001b[0m\u001b[1;33m\u001b[0m\u001b[0m\n\u001b[0;32m      2\u001b[0m \u001b[0mtemperatures_list\u001b[0m \u001b[1;33m=\u001b[0m \u001b[0mtemperatures_df\u001b[0m\u001b[1;33m.\u001b[0m\u001b[0mto_dict\u001b[0m\u001b[1;33m(\u001b[0m\u001b[1;33m)\u001b[0m\u001b[1;33m\u001b[0m\u001b[0m\n\u001b[1;32m----> 3\u001b[1;33m \u001b[0mjson\u001b[0m\u001b[1;33m(\u001b[0m\u001b[0mtemperatures_list\u001b[0m\u001b[1;33m)\u001b[0m\u001b[1;33m\u001b[0m\u001b[0m\n\u001b[0m",
      "\u001b[1;31mNameError\u001b[0m: name 'json' is not defined"
     ]
    }
   ],
   "source": [
    "temperatures_df = get_temperature_obs()\n",
    "temperatures_list = temperatures_df.to_dict()\n",
    "json(temperatures_list)"
   ]
  },
  {
   "cell_type": "code",
   "execution_count": 87,
   "metadata": {
    "scrolled": true
   },
   "outputs": [
    {
     "data": {
      "image/png": "[encoded data removed]",
      "text/plain": [
       "<matplotlib.figure.Figure at 0x1a6a9511208>"
      ]
     },
     "metadata": {},
     "output_type": "display_data"
    }
   ],
   "source": [
    "calctemps(datetime(2018,1,1),datetime(2018,1,20))"
   ]
  },
  {
   "cell_type": "code",
   "execution_count": null,
   "metadata": {
    "collapsed": true
   },
   "outputs": [],
   "source": []
  }
 ],
 "metadata": {
  "kernelspec": {
   "display_name": "Python 3",
   "language": "python",
   "name": "python3"
  },
  "language_info": {
   "codemirror_mode": {
    "name": "ipython",
    "version": 3
   },
   "file_extension": ".py",
   "mimetype": "text/x-python",
   "name": "python",
   "nbconvert_exporter": "python",
   "pygments_lexer": "ipython3",
   "version": "3.6.2"
  }
 },
 "nbformat": 4,
 "nbformat_minor": 2
}
