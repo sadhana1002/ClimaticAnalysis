{
 "cells": [
  {
   "cell_type": "code",
   "execution_count": 4,
   "metadata": {},
   "outputs": [],
   "source": [
    "from flask import Flask,jsonify\n",
    "import climatic_analysis as helper\n",
    "from datetime import datetime\n",
    "\n",
    "app = Flask(__name__)\n",
    "\n",
    "def currentday():\n",
    "    today = datetime.now()\n",
    "    return today.strftime('%m-%d')\n",
    "\n",
    "@app.route(\"/\")\n",
    "def home():\n",
    "    print(\"HOME!!\")\n",
    "    \n",
    "@app.route(\"/api/v1.0/precipitation\")\n",
    "def getprecipitationinfo():\n",
    "    print(\"Precipitation!!\")\n",
    "\n",
    "@app.route(\"/api/v1.0/stations\")\n",
    "def getstationsinfo():\n",
    "    print(\"Stations!!\")\n",
    "\n",
    "@app.route(\"/api/v1.0/tobs\")\n",
    "def gettemperaturesinfo():\n",
    "    print(\"Temperatures!!\")\n",
    "\n",
    "@app.route(\"/api/v1.0/<start>\")\n",
    "@app.route(\"/api/v1.0/<start>/<end>\")\n",
    "def gettripprediction(start,end=currentday()):\n",
    "    print(f\"Try{start} - {end}\")\n",
    "    \n",
    "    \n",
    "\n",
    "\n",
    "\n",
    "if __name__ == \"__main__\":\n",
    "    app.run()\n",
    "    \n",
    "### Routes\n",
    "\n",
    "# * `/api/v1.0/precipitation`\n",
    "\n",
    "#   * Query for the dates and temperature observations from the last year.\n",
    "\n",
    "#   * Convert the query results to a Dictionary using `date` as the key and `tobs` as the value.\n",
    "\n",
    "#   * Return the json representation of your dictionary.\n",
    "\n",
    "# * `/api/v1.0/stations`\n",
    "\n",
    "#   * Return a json list of stations from the dataset.\n",
    "\n",
    "# * `/api/v1.0/tobs`\n",
    "\n",
    "#   * Return a json list of Temperature Observations (tobs) for the previous year\n",
    "\n",
    "# * `/api/v1.0/<start>` and `/api/v1.0/<start>/<end>`\n",
    "\n",
    "#   * Return a json list of the minimum temperature, the average temperature, and the max temperature for a given start or start-end range.\n",
    "\n",
    "#   * When given the start only, calculate `TMIN`, `TAVG`, and `TMAX` for all dates greater than and equal to the start date.\n",
    "\n",
    "#   * When given the start and the end date, calculate the `TMIN`, `TAVG`, and `TMAX` for dates between the start and end date inclusive.\n",
    "    \n"
   ]
  },
  {
   "cell_type": "code",
   "execution_count": 5,
   "metadata": {
    "collapsed": true
   },
   "outputs": [],
   "source": [
    "# 3. Define what to do when a user hits the index route\n",
    "\n",
    "\n"
   ]
  },
  {
   "cell_type": "code",
   "execution_count": null,
   "metadata": {
    "collapsed": true
   },
   "outputs": [],
   "source": []
  }
 ],
 "metadata": {
  "kernelspec": {
   "display_name": "Python 3",
   "language": "python",
   "name": "python3"
  },
  "language_info": {
   "codemirror_mode": {
    "name": "ipython",
    "version": 3
   },
   "file_extension": ".py",
   "mimetype": "text/x-python",
   "name": "python",
   "nbconvert_exporter": "python",
   "pygments_lexer": "ipython3",
   "version": "3.6.2"
  }
 },
 "nbformat": 4,
 "nbformat_minor": 2
}
